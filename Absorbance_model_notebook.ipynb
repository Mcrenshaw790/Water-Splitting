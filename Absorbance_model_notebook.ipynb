{
 "cells": [
  {
   "cell_type": "code",
   "execution_count": 1,
   "id": "dd09c1ae-5391-4c89-b8fc-ca69da35f124",
   "metadata": {},
   "outputs": [],
   "source": [
    "import numpy as np\n",
    "import matplotlib.pyplot as plt\n",
    "from matplotlib import rcParams\n",
    "import pprint\n",
    "\n",
    "def Absorption_model(num_photons, pathlength, epsilon, concentration, dx):\n",
    "\t\n",
    "    steps = int(pathlength / dx)\n",
    "\n",
    "    # Derived absorption probability per step\n",
    "    absorption_prob = 1 - np.exp(-epsilon * concentration * dx)\n",
    "\n",
    "    #List full of ones to \n",
    "    photons_alive = np.ones(num_photons, dtype=bool)\n",
    "\t\n",
    "    # Store how far each photon travels before being absorbed\n",
    "    distances = np.zeros(num_photons)\n",
    "\t\n",
    "    for step in range(steps):\n",
    "        # Generate random numbers for surviving photons\n",
    "        rand_nums = np.random.rand(num_photons)\n",
    "        # Determine absorption for surviving photons\n",
    "        absorbed = (rand_nums < absorption_prob) & photons_alive\n",
    "        # Record distance for absorbed photons\n",
    "        distances[absorbed] = step * dx\n",
    "        # Mark absorbed photons as dead\n",
    "        photons_alive[absorbed] = False\n",
    "        \"\"\"If a Photon is absorbed it is taken out of consideration\"\"\"\n",
    "\n",
    "    # Remaining photons made it to the end\n",
    "    distances[photons_alive] = path_length\n",
    "\t\n",
    "    transmitted = np.sum(photons_alive)\n",
    "    transmission = transmitted / num_photons\n",
    "    absorbance = -np.log10(transmission)\n",
    "\n",
    "    return absorbance, distances"
   ]
  },
  {
   "cell_type": "code",
   "execution_count": 2,
   "id": "8efe23cf-c96c-4d6d-b4c4-be76d394275f",
   "metadata": {},
   "outputs": [
    {
     "name": "stdout",
     "output_type": "stream",
     "text": [
      "Total number of photons accounted for is:  10000\n"
     ]
    },
    {
     "name": "stderr",
     "output_type": "stream",
     "text": [
      "C:\\Users\\Miles\\AppData\\Local\\Temp\\ipykernel_19640\\2550369814.py:35: RuntimeWarning: divide by zero encountered in log10\n",
      "  absorbance = -np.log10(transmission)\n"
     ]
    },
    {
     "data": {
      "image/png": "[encoded data removed]",
      "text/plain": [
       "<Figure size 800x500 with 1 Axes>"
      ]
     },
     "metadata": {},
     "output_type": "display_data"
    }
   ],
   "source": [
    "# Parameters\n",
    "num_photons = 10000            # Number of photons to simulate\n",
    "epsilon = 3000                 # Molar extinction coefficient (L·mol⁻¹·cm⁻¹)\n",
    "concentration = 0.005         # Concentration of solute (mol·L⁻¹)\n",
    "path_length = 1                # Total path length through solution (cm)\n",
    "dx = 0.01                      # Step size (cm)\n",
    "\n",
    "\n",
    "\"\"\"This takes the absorbance model for 10000 photons \n",
    "and runs how far the photon population is able to propagate \"\"\"\n",
    "absorbance, distances = Absorption_model(num_photons, path_length, epsilon, concentration, dx)\n",
    "print(\"Total number of photons accounted for is: \", len(distances) )\n",
    "plt.figure(figsize=(8, 5))\n",
    "plt.hist(distances, bins=50, edgecolor='black', density=False)\n",
    "plt.title(\"Photon Penetration Depth Distribution\")\n",
    "plt.xlabel(\"Distance traveled (cm)\")\n",
    "plt.ylabel(\"Photons Absorbed\")\n",
    "plt.grid(True)\n",
    "plt.show()\n"
   ]
  },
  {
   "cell_type": "code",
   "execution_count": 3,
   "id": "03e32597-f15a-4e9f-acd5-49123eecce7e",
   "metadata": {},
   "outputs": [
    {
     "data": {
      "text/plain": [
       "'These still need fixing but this is where I will add in the terms for fractional absorption \\nand attempt to cmbine with the ODE system'"
      ]
     },
     "execution_count": 3,
     "metadata": {},
     "output_type": "execute_result"
    }
   ],
   "source": [
    "from scipy.integrate import odeint\n",
    "from matplotlib import rcParams\n",
    "rcParams['font.family'] = 'sans-serif'\n",
    "rcParams['font.sans-serif'] = ['Arial']\n",
    "from timeit import default_timer as timer\n",
    "import pprint\n",
    "from numba import njit\n",
    "\n",
    "\n",
    "def ODE_system_VariableF(y, t, p, cross_section, flux):\n",
    "\t'''\n",
    "    Thedifference is in this case the flux driving the reaction\n",
    "    from B--->C decreases directly as a result of the photons absorbed in A--->B\n",
    "    The idea that I had was that each for each individual second that passes 1*quantum yield photons would be lost from the flux\n",
    "\t'''\n",
    "\n",
    "\tR1 = p[0] * y[1]\n",
    "\tR2 = p[1] * cross_section * flux * y[0]  \n",
    "\tR3 = p[2] * cross_section * flux *(1-p[1]*y[0]*t) * y[1]\n",
    "\tR6 = p[3] * y[2]\n",
    "    \n",
    "\tra = R1 - R2 + R6 \n",
    "\trb = -R1 + R2 - R3\n",
    "\trc = R3 - R6\n",
    "\t\n",
    "\treturn [ra, rb, rc]\n",
    "\n",
    "def ODE_explicit_rate_law_VariableF(p, initial_state, t, flux, cross_section, ravel = False):\n",
    "\n",
    "\tsol = odeint(ODE_system_VF, initial_state, t, args = (p, cross_section, flux))\n",
    "\n",
    "\tif ravel is True:\n",
    "\t\tsol = np.ravel(sol)\n",
    "    \n",
    "\treturn sol\n",
    "\n",
    "\n",
    "\"\"\"These still need fixing but this is where I will add in the terms for fractional absorption \n",
    "and attempt to cmbine with the ODE system\"\"\""
   ]
  },
  {
   "cell_type": "code",
   "execution_count": null,
   "id": "2cf6cfea-48f5-44d2-af75-53e71fdbdbf2",
   "metadata": {},
   "outputs": [],
   "source": []
  }
 ],
 "metadata": {
  "kernelspec": {
   "display_name": "Python 3 (ipykernel)",
   "language": "python",
   "name": "python3"
  },
  "language_info": {
   "codemirror_mode": {
    "name": "ipython",
    "version": 3
   },
   "file_extension": ".py",
   "mimetype": "text/x-python",
   "name": "python",
   "nbconvert_exporter": "python",
   "pygments_lexer": "ipython3",
   "version": "3.11.7"
  }
 },
 "nbformat": 4,
 "nbformat_minor": 5
}
